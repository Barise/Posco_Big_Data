{
 "cells": [
  {
   "cell_type": "code",
   "execution_count": 1,
   "metadata": {
    "colab": {},
    "colab_type": "code",
    "id": "E9eSbW7gU4BH"
   },
   "outputs": [],
   "source": [
    "import pandas as pd\n",
    "import numpy as np\n",
    "\n",
    "import matplotlib.pyplot as plt\n",
    "import matplotlib\n",
    "\n",
    "\n",
    "from sklearn.tree import DecisionTreeClassifier\n",
    "from sklearn.ensemble import RandomForestClassifier\n",
    "from sklearn.ensemble import GradientBoostingClassifier\n",
    "from sklearn.svm import SVC\n",
    "from sklearn.neural_network import MLPClassifier\n",
    "\n",
    "from sklearn.preprocessing import StandardScaler\n",
    "\n",
    "from sklearn.model_selection import train_test_split\n",
    "\n",
    "from statsmodels.api import Logit\n",
    "\n",
    "from sklearn.metrics import accuracy_score\n",
    "\n",
    "from sklearn.metrics import confusion_matrix\n",
    "\n",
    "from sklearn.metrics import f1_score, roc_curve, auc, recall_score\n",
    "\n",
    "%matplotlib inline"
   ]
  },
  {
   "cell_type": "code",
   "execution_count": 2,
   "metadata": {
    "colab": {},
    "colab_type": "code",
    "id": "bk1tMk6dU4BR",
    "outputId": "8990b6c4-673e-4337-a629-eadb012dd928"
   },
   "outputs": [
    {
     "data": {
      "text/html": [
       "<div>\n",
       "<style scoped>\n",
       "    .dataframe tbody tr th:only-of-type {\n",
       "        vertical-align: middle;\n",
       "    }\n",
       "\n",
       "    .dataframe tbody tr th {\n",
       "        vertical-align: top;\n",
       "    }\n",
       "\n",
       "    .dataframe thead th {\n",
       "        text-align: right;\n",
       "    }\n",
       "</style>\n",
       "<table border=\"1\" class=\"dataframe\">\n",
       "  <thead>\n",
       "    <tr style=\"text-align: right;\">\n",
       "      <th></th>\n",
       "      <th>customer_id</th>\n",
       "      <th>insu_risk_expense</th>\n",
       "      <th>gender</th>\n",
       "      <th>age</th>\n",
       "      <th>bmi</th>\n",
       "      <th>waist</th>\n",
       "      <th>bp_min</th>\n",
       "      <th>bp_max</th>\n",
       "      <th>risk</th>\n",
       "    </tr>\n",
       "  </thead>\n",
       "  <tbody>\n",
       "    <tr>\n",
       "      <th>0</th>\n",
       "      <td>C117780</td>\n",
       "      <td>194376.0</td>\n",
       "      <td>1</td>\n",
       "      <td>50</td>\n",
       "      <td>23.939481</td>\n",
       "      <td>83.0</td>\n",
       "      <td>85</td>\n",
       "      <td>130</td>\n",
       "      <td>0</td>\n",
       "    </tr>\n",
       "    <tr>\n",
       "      <th>1</th>\n",
       "      <td>C117780</td>\n",
       "      <td>-1869370.0</td>\n",
       "      <td>1</td>\n",
       "      <td>50</td>\n",
       "      <td>23.939481</td>\n",
       "      <td>83.0</td>\n",
       "      <td>85</td>\n",
       "      <td>130</td>\n",
       "      <td>1</td>\n",
       "    </tr>\n",
       "    <tr>\n",
       "      <th>2</th>\n",
       "      <td>C121178</td>\n",
       "      <td>-913949.0</td>\n",
       "      <td>1</td>\n",
       "      <td>30</td>\n",
       "      <td>24.816327</td>\n",
       "      <td>86.0</td>\n",
       "      <td>80</td>\n",
       "      <td>125</td>\n",
       "      <td>1</td>\n",
       "    </tr>\n",
       "    <tr>\n",
       "      <th>3</th>\n",
       "      <td>C116605</td>\n",
       "      <td>-1813374.0</td>\n",
       "      <td>1</td>\n",
       "      <td>50</td>\n",
       "      <td>26.259585</td>\n",
       "      <td>88.0</td>\n",
       "      <td>80</td>\n",
       "      <td>130</td>\n",
       "      <td>1</td>\n",
       "    </tr>\n",
       "    <tr>\n",
       "      <th>4</th>\n",
       "      <td>C129391</td>\n",
       "      <td>-4495124.0</td>\n",
       "      <td>2</td>\n",
       "      <td>35</td>\n",
       "      <td>19.227688</td>\n",
       "      <td>72.0</td>\n",
       "      <td>80</td>\n",
       "      <td>120</td>\n",
       "      <td>1</td>\n",
       "    </tr>\n",
       "  </tbody>\n",
       "</table>\n",
       "</div>"
      ],
      "text/plain": [
       "  customer_id  insu_risk_expense  gender  age        bmi  waist  bp_min  \\\n",
       "0     C117780           194376.0       1   50  23.939481   83.0      85   \n",
       "1     C117780         -1869370.0       1   50  23.939481   83.0      85   \n",
       "2     C121178          -913949.0       1   30  24.816327   86.0      80   \n",
       "3     C116605         -1813374.0       1   50  26.259585   88.0      80   \n",
       "4     C129391         -4495124.0       2   35  19.227688   72.0      80   \n",
       "\n",
       "   bp_max  risk  \n",
       "0     130     0  \n",
       "1     130     1  \n",
       "2     125     1  \n",
       "3     130     1  \n",
       "4     120     1  "
      ]
     },
     "execution_count": 2,
     "metadata": {},
     "output_type": "execute_result"
    }
   ],
   "source": [
    "model_1 = pd.read_excel('model1_dataset.xlsx',sheet_name='Sheet1')\n",
    "model_1.head()"
   ]
  },
  {
   "cell_type": "code",
   "execution_count": 3,
   "metadata": {
    "colab": {},
    "colab_type": "code",
    "id": "l66gOrexU4BZ"
   },
   "outputs": [],
   "source": [
    "model_1 = pd.get_dummies(model_1.drop('customer_id',axis=1))"
   ]
  },
  {
   "cell_type": "code",
   "execution_count": 4,
   "metadata": {
    "colab": {},
    "colab_type": "code",
    "id": "SttFBzoAU4Be"
   },
   "outputs": [],
   "source": [
    "f = lambda x : 0 if x >0 else 1\n",
    "model_1['risk'] = model_1['insu_risk_expense'].apply(f)"
   ]
  },
  {
   "cell_type": "code",
   "execution_count": 5,
   "metadata": {
    "colab": {},
    "colab_type": "code",
    "id": "0me_2--kU4Bi"
   },
   "outputs": [],
   "source": [
    "model_1_y = model_1['risk']\n",
    "model_1_x = model_1.drop(['insu_risk_expense','risk'], axis =1, inplace = False)"
   ]
  },
  {
   "cell_type": "code",
   "execution_count": 6,
   "metadata": {
    "colab": {},
    "colab_type": "code",
    "id": "s0_IEEDdU4Bm",
    "outputId": "1221850c-7eee-4f26-de86-243497648d34"
   },
   "outputs": [
    {
     "name": "stdout",
     "output_type": "stream",
     "text": [
      "train data X size : (3329, 6)\n",
      "train data Y size : (3329,)\n",
      "test data X size : (1428, 6)\n",
      "test data X size : (1428,)\n"
     ]
    }
   ],
   "source": [
    "df_train_x, df_test_x, df_train_y,df_test_y = train_test_split(model_1_x, model_1_y,\\\n",
    "                                               test_size = 0.3, random_state = 1234)\n",
    "print('train data X size : {}'.format(df_train_x.shape))\n",
    "print('train data Y size : {}'.format(df_train_y.shape))\n",
    "print('test data X size : {}'.format(df_test_x.shape))\n",
    "print('test data X size : {}'.format(df_test_y.shape))\n"
   ]
  },
  {
   "cell_type": "code",
   "execution_count": 7,
   "metadata": {
    "colab": {},
    "colab_type": "code",
    "id": "rNSi0yZaU4Bp"
   },
   "outputs": [],
   "source": [
    "#분석 모델\n",
    "model = [\"DecisionTree\", \"RandomForest\", \"GradientBoosting\", 'SVC', \"NeuralNet\"]\n",
    "\n",
    "#정확도 저장\n",
    "train_accuracy = []; test_accuracy = []\n",
    "#f1 score 저장\n",
    "model_f1_score = []\n",
    "#auc score 저장\n",
    "model_auc = []"
   ]
  },
  {
   "cell_type": "code",
   "execution_count": 8,
   "metadata": {
    "colab": {},
    "colab_type": "code",
    "id": "JINz9rjdU4Bt"
   },
   "outputs": [],
   "source": [
    "tree_final = DecisionTreeClassifier(min_samples_leaf = 47, max_depth = 9, random_state = 1234)\n",
    "tree_final.fit(df_train_x, df_train_y)\n",
    "dt_model = DecisionTreeClassifier(max_depth = 4, min_samples_leaf = 30)\n",
    "dt_model.fit(df_train_x, df_train_y)\n",
    "\n",
    "#train 정확도\n",
    "train_accuracy.append(dt_model.score(df_train_x, df_train_y))\n",
    "#test 정확도\n",
    "test_accuracy.append(dt_model.score(df_test_x, df_test_y))\n",
    "\n",
    "#예측값\n",
    "y_pred = dt_model.predict(df_test_x)\n",
    "\n",
    "#roc_curve(실제값, 예측값), fpr = FP/(FP+TN) : 거짓 양성 비율, tpr = TP/(TP+FN): 진짜 양성 비율(재현율)\n",
    "fpr, tpr, thresholds = roc_curve(df_test_y, y_pred)\n",
    "roc_auc = auc(fpr,tpr)\n",
    "\n",
    "#auc 저장\n",
    "model_auc.append(roc_auc)\n",
    "model_f1_score.append(f1_score(df_test_y, y_pred))"
   ]
  },
  {
   "cell_type": "code",
   "execution_count": 9,
   "metadata": {
    "colab": {},
    "colab_type": "code",
    "id": "EQZFLFEHU4Bw"
   },
   "outputs": [],
   "source": [
    "rf_model = RandomForestClassifier(min_samples_leaf = 16, max_depth = 4,\\\n",
    "                                n_estimators = 80,min_samples_split=20, random_state = 1234)\n",
    "rf_model.fit(df_train_x, df_train_y)\n",
    "\n",
    "# train 정확도\n",
    "train_accuracy.append(rf_model.score(df_train_x, df_train_y))\n",
    "# test 정확도\n",
    "test_accuracy.append(rf_model.score(df_test_x, df_test_y))\n",
    "\n",
    "#예측값\n",
    "y_pred = rf_model.predict(df_test_x)\n",
    "\n",
    "#roc_curve(실제값, 예측값), fpr = FP/(FP + TN) : 거짓 양성 비율, tpr = TP/(TP/FN) : 진짜 양성 비율(재현율)\n",
    "fpr, tpr, thresholds = roc_curve(df_test_y, y_pred)\n",
    "roc_auc = auc(fpr, tpr)\n",
    "\n",
    "#auc 저장\n",
    "model_auc.append(roc_auc)\n",
    "model_f1_score.append(f1_score(df_test_y, y_pred))"
   ]
  },
  {
   "cell_type": "code",
   "execution_count": 10,
   "metadata": {
    "colab": {},
    "colab_type": "code",
    "id": "E1fT21n5U4By"
   },
   "outputs": [],
   "source": [
    "# 모델 생성\n",
    "gb_final = GradientBoostingClassifier(min_samples_leaf=8, max_depth=4, n_estimators=30,\n",
    "                                     learning_rate=0.3, random_state=1234)\n",
    "gb_final.fit(df_train_x, df_train_y)\n",
    "\n",
    "# train 정확도\n",
    "train_accuracy.append(gb_final.score(df_train_x, df_train_y))\n",
    "# test 정확도\n",
    "test_accuracy.append(gb_final.score(df_test_x, df_test_y))\n",
    "\n",
    "# 예측값\n",
    "y_pred = gb_final.predict(df_test_x)\n",
    "\n",
    "# roc_curve(실제값,예측값), fpr=FP/(FP+TN):거짓 양성 비율, tpr=TP/(TP+FN):진짜 양성 비율(재현율)\n",
    "fpr, tpr, thresholds = roc_curve(df_test_y, y_pred)\n",
    "roc_auc = auc(fpr, tpr)\n",
    "\n",
    "# auc 저장\n",
    "model_auc.append(roc_auc)\n",
    "model_f1_score.append(f1_score(df_test_y, y_pred))"
   ]
  },
  {
   "cell_type": "code",
   "execution_count": 11,
   "metadata": {
    "colab": {},
    "colab_type": "code",
    "id": "CnlsNuL6WCh_"
   },
   "outputs": [],
   "source": [
    "v_feature_names = df_train_x.columns\n",
    "\n",
    "# StandardScaler 적용\n",
    "scaler = StandardScaler()\n",
    "df_scaled_x = scaler.fit_transform(model_1_x)\n",
    "df_scaled_x = pd.DataFrame(df_scaled_x, columns=v_feature_names)"
   ]
  },
  {
   "cell_type": "code",
   "execution_count": 12,
   "metadata": {
    "colab": {},
    "colab_type": "code",
    "id": "ZG6aL-WcWIhZ"
   },
   "outputs": [
    {
     "name": "stdout",
     "output_type": "stream",
     "text": [
      "train data X size :(3329, 6)\n",
      "train data Y size :(3329,)\n",
      "test data X size :(1428, 6)\n",
      "test data Y size :(1428,)\n"
     ]
    }
   ],
   "source": [
    "df_train_x, df_test_x, df_train_y, df_test_y = train_test_split(df_scaled_x, model_1_y, test_size=0.3, random_state=1234)\n",
    "\n",
    "print(\"train data X size :{}\".format(df_train_x.shape))\n",
    "print(\"train data Y size :{}\".format(df_train_y.shape))\n",
    "print(\"test data X size :{}\".format(df_test_x.shape))\n",
    "print(\"test data Y size :{}\".format(df_test_y.shape))"
   ]
  },
  {
   "cell_type": "code",
   "execution_count": 13,
   "metadata": {
    "colab": {},
    "colab_type": "code",
    "id": "qrFK-ivZU4B1"
   },
   "outputs": [],
   "source": [
    "svc_final = SVC(C=0.04, random_state=1234)\n",
    "svc_final.fit(df_train_x,df_train_y)\n",
    "\n",
    "# train 정확도\n",
    "train_accuracy.append(svc_final.score(df_train_x, df_train_y))\n",
    "# test 정확도\n",
    "test_accuracy.append(svc_final.score(df_test_x, df_test_y))\n",
    "\n",
    "# 예측값\n",
    "y_pred = svc_final.predict(df_test_x)\n",
    "\n",
    "# roc_curve(실제값,예측값), fpr=FP/(FP+TN):거짓 양성 비율, tpr=TP/(TP+FN):진짜 양성 비율(재현율)\n",
    "fpr, tpr, thresholds = roc_curve(df_test_y, y_pred)\n",
    "roc_auc = auc(fpr, tpr)\n",
    "\n",
    "# auc 저장\n",
    "model_auc.append(roc_auc)\n",
    "model_f1_score.append(f1_score(df_test_y, y_pred))"
   ]
  },
  {
   "cell_type": "code",
   "execution_count": 14,
   "metadata": {
    "colab": {},
    "colab_type": "code",
    "id": "0uaMk0PwU4B5"
   },
   "outputs": [],
   "source": [
    "#모델 생성\n",
    "nn_model = MLPClassifier(activation=\"logistic\", solver=\"adam\", random_state=1234)\n",
    "nn_model.fit(df_train_x, df_train_y)\n",
    "\n",
    "#train 정확도\n",
    "train_accuracy.append(nn_model.score(df_train_x, df_train_y))\n",
    "#test 정확도\n",
    "test_accuracy.append(nn_model.score(df_test_x, df_test_y))\n",
    "\n",
    "#예측값\n",
    "y_pred = nn_model.predict(df_test_x)\n",
    "\n",
    "#roc_curve(실제값, 예측값), fpr = FP/(FP+TN) : 거짓 양성 비율, tpr = TP/(TP+FN): 진짜 양성 비율(재현율)\n",
    "fpr, tpr, thresholds = roc_curve(df_test_y, y_pred)\n",
    "roc_auc = auc(fpr,tpr)\n",
    "\n",
    "#auc 저장\n",
    "model_auc.append(roc_auc)\n",
    "model_f1_score.append(f1_score(df_test_y, y_pred))"
   ]
  },
  {
   "cell_type": "code",
   "execution_count": 15,
   "metadata": {
    "colab": {},
    "colab_type": "code",
    "id": "AwgqxQqFU4B8",
    "outputId": "69a47bed-418f-4888-b975-18410b64d348"
   },
   "outputs": [
    {
     "data": {
      "text/html": [
       "<div>\n",
       "<style scoped>\n",
       "    .dataframe tbody tr th:only-of-type {\n",
       "        vertical-align: middle;\n",
       "    }\n",
       "\n",
       "    .dataframe tbody tr th {\n",
       "        vertical-align: top;\n",
       "    }\n",
       "\n",
       "    .dataframe thead th {\n",
       "        text-align: right;\n",
       "    }\n",
       "</style>\n",
       "<table border=\"1\" class=\"dataframe\">\n",
       "  <thead>\n",
       "    <tr style=\"text-align: right;\">\n",
       "      <th></th>\n",
       "      <th>TrainAccuracy</th>\n",
       "      <th>TestAccuracy</th>\n",
       "      <th>F1Score</th>\n",
       "      <th>AUC</th>\n",
       "    </tr>\n",
       "  </thead>\n",
       "  <tbody>\n",
       "    <tr>\n",
       "      <th>DecisionTree</th>\n",
       "      <td>0.560</td>\n",
       "      <td>0.551</td>\n",
       "      <td>0.588</td>\n",
       "      <td>0.549</td>\n",
       "    </tr>\n",
       "    <tr>\n",
       "      <th>RandomForest</th>\n",
       "      <td>0.577</td>\n",
       "      <td>0.533</td>\n",
       "      <td>0.563</td>\n",
       "      <td>0.531</td>\n",
       "    </tr>\n",
       "    <tr>\n",
       "      <th>GradientBoosting</th>\n",
       "      <td>0.660</td>\n",
       "      <td>0.541</td>\n",
       "      <td>0.555</td>\n",
       "      <td>0.541</td>\n",
       "    </tr>\n",
       "    <tr>\n",
       "      <th>SVC</th>\n",
       "      <td>0.546</td>\n",
       "      <td>0.545</td>\n",
       "      <td>0.544</td>\n",
       "      <td>0.545</td>\n",
       "    </tr>\n",
       "    <tr>\n",
       "      <th>NeuralNet</th>\n",
       "      <td>0.534</td>\n",
       "      <td>0.536</td>\n",
       "      <td>0.497</td>\n",
       "      <td>0.539</td>\n",
       "    </tr>\n",
       "  </tbody>\n",
       "</table>\n",
       "</div>"
      ],
      "text/plain": [
       "                  TrainAccuracy  TestAccuracy  F1Score    AUC\n",
       "DecisionTree              0.560         0.551    0.588  0.549\n",
       "RandomForest              0.577         0.533    0.563  0.531\n",
       "GradientBoosting          0.660         0.541    0.555  0.541\n",
       "SVC                       0.546         0.545    0.544  0.545\n",
       "NeuralNet                 0.534         0.536    0.497  0.539"
      ]
     },
     "execution_count": 15,
     "metadata": {},
     "output_type": "execute_result"
    }
   ],
   "source": [
    "#모델별 정확도 표\n",
    "df_eval = pd.DataFrame(index = model)\n",
    "df_eval[\"TrainAccuracy\"] = train_accuracy\n",
    "df_eval[\"TestAccuracy\"] = test_accuracy\n",
    "df_eval[\"F1Score\"] = model_f1_score\n",
    "df_eval[\"AUC\"] = model_auc\n",
    "df_eval.round(3)"
   ]
  },
  {
   "cell_type": "code",
   "execution_count": 16,
   "metadata": {
    "colab": {},
    "colab_type": "code",
    "id": "K4YnPrriU4B-",
    "outputId": "51d2d01c-794b-457f-d6e6-832ed4392413"
   },
   "outputs": [
    {
     "data": {
      "image/png": "[encoded data removed]",
      "text/plain": [
       "<Figure size 1080x720 with 1 Axes>"
      ]
     },
     "metadata": {
      "needs_background": "light"
     },
     "output_type": "display_data"
    }
   ],
   "source": [
    "#정확도 bar plot 생성\n",
    "df_eval.plot.bar(rot=0, figsize=(15, 10))\n",
    "plt.legend(loc=\"lower right\")\n",
    "plt.grid(axis=\"y\")"
   ]
  }
 ],
 "metadata": {
  "colab": {
   "collapsed_sections": [],
   "name": "Model1_Score.ipynb",
   "provenance": []
  },
  "kernelspec": {
   "display_name": "Python 3",
   "language": "python",
   "name": "python3"
  },
  "language_info": {
   "codemirror_mode": {
    "name": "ipython",
    "version": 3
   },
   "file_extension": ".py",
   "mimetype": "text/x-python",
   "name": "python",
   "nbconvert_exporter": "python",
   "pygments_lexer": "ipython3",
   "version": "3.7.6"
  }
 },
 "nbformat": 4,
 "nbformat_minor": 1
}
