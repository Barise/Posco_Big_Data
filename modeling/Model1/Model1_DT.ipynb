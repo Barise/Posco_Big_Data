{
 "cells": [
  {
   "cell_type": "code",
   "execution_count": 1,
   "metadata": {},
   "outputs": [],
   "source": [
    "import pandas as pd\n",
    "#행렬 연산 패키지\n",
    "import numpy as np\n",
    "\n",
    "#데이터 시각화\n",
    "import matplotlib\n",
    "import matplotlib.pyplot as plt\n",
    "\n",
    "from sklearn.preprocessing import StandardScaler\n",
    "from sklearn.preprocessing import MinMaxScaler \n"
   ]
  },
  {
   "cell_type": "markdown",
   "metadata": {},
   "source": [
    "# 의사결정나무"
   ]
  },
  {
   "cell_type": "code",
   "execution_count": 2,
   "metadata": {},
   "outputs": [
    {
     "ename": "ModuleNotFoundError",
     "evalue": "No module named 'graphviz'",
     "output_type": "error",
     "traceback": [
      "\u001b[1;31m---------------------------------------------------------------------------\u001b[0m",
      "\u001b[1;31mModuleNotFoundError\u001b[0m                       Traceback (most recent call last)",
      "\u001b[1;32m<ipython-input-2-9ed78ece383d>\u001b[0m in \u001b[0;36m<module>\u001b[1;34m\u001b[0m\n\u001b[0;32m      2\u001b[0m \u001b[1;32mfrom\u001b[0m \u001b[0msklearn\u001b[0m\u001b[1;33m.\u001b[0m\u001b[0mtree\u001b[0m \u001b[1;32mimport\u001b[0m \u001b[0mexport_graphviz\u001b[0m\u001b[1;33m\u001b[0m\u001b[1;33m\u001b[0m\u001b[0m\n\u001b[0;32m      3\u001b[0m \u001b[1;31m#나무 구조 시각화\u001b[0m\u001b[1;33m\u001b[0m\u001b[1;33m\u001b[0m\u001b[1;33m\u001b[0m\u001b[0m\n\u001b[1;32m----> 4\u001b[1;33m \u001b[1;32mimport\u001b[0m \u001b[0mgraphviz\u001b[0m\u001b[1;33m\u001b[0m\u001b[1;33m\u001b[0m\u001b[0m\n\u001b[0m\u001b[0;32m      5\u001b[0m \u001b[1;33m\u001b[0m\u001b[0m\n\u001b[0;32m      6\u001b[0m \u001b[1;31m#데이터 분할: train, test\u001b[0m\u001b[1;33m\u001b[0m\u001b[1;33m\u001b[0m\u001b[1;33m\u001b[0m\u001b[0m\n",
      "\u001b[1;31mModuleNotFoundError\u001b[0m: No module named 'graphviz'"
     ]
    }
   ],
   "source": [
    "#나무 구조 생성 및 저장\n",
    "from sklearn.tree import export_graphviz\n",
    "#나무 구조 시각화\n",
    "import graphviz\n",
    "\n",
    "#데이터 분할: train, test\n",
    "from sklearn.model_selection import train_test_split\n",
    "#예측/회귀 Decision test\n",
    "from sklearn.tree import DecisionTreeClassifier\n",
    "from sklearn.metrics import confusion_matrix\n",
    "\n",
    "from sklearn.tree import export_graphviz\n",
    "#나무 구조 시각화\n",
    "import graphviz\n",
    "import os\n",
    "\n",
    "os.environ['PATH'] += os.pathsep + 'C:\\Program Files (x86)/Graphviz2.38/bin'"
   ]
  },
  {
   "cell_type": "code",
   "execution_count": null,
   "metadata": {},
   "outputs": [],
   "source": [
    "model_1 = pd.read_excel('C:/Users/chhch/OneDrive/Documents/POSTECH/빅데이터프로젝트/model1_dataset.xlsx',sheet_name='Sheet1')\n",
    "model_1"
   ]
  },
  {
   "cell_type": "code",
   "execution_count": null,
   "metadata": {},
   "outputs": [],
   "source": [
    "model_1.info()"
   ]
  },
  {
   "cell_type": "code",
   "execution_count": null,
   "metadata": {},
   "outputs": [],
   "source": [
    "model_1 = pd.get_dummies(model_1.drop('customer_id',axis=1))"
   ]
  },
  {
   "cell_type": "code",
   "execution_count": null,
   "metadata": {},
   "outputs": [],
   "source": [
    "f = lambda x : 0 if x >0 else 1\n",
    "model_1['risk'] = model_1['insu_risk_expense'].apply(f)"
   ]
  },
  {
   "cell_type": "code",
   "execution_count": null,
   "metadata": {},
   "outputs": [],
   "source": [
    "model_1.head()"
   ]
  },
  {
   "cell_type": "code",
   "execution_count": null,
   "metadata": {},
   "outputs": [],
   "source": [
    "model_1_y = model_1['risk']\n",
    "model_1_x = model_1.drop(['insu_risk_expense','risk'], axis =1, inplace = False)"
   ]
  },
  {
   "cell_type": "code",
   "execution_count": null,
   "metadata": {},
   "outputs": [],
   "source": [
    "df_train_x, df_test_x, df_train_y,df_test_y = train_test_split(model_1_x, model_1_y,\\\n",
    "                                               test_size = 0.3, random_state = 1234)\n",
    "print('train data X size : {}'.format(df_train_x.shape))\n",
    "print('train data Y size : {}'.format(df_train_y.shape))\n",
    "print('test data X size : {}'.format(df_test_x.shape))\n",
    "print('test data X size : {}'.format(df_test_y.shape))\n"
   ]
  },
  {
   "cell_type": "code",
   "execution_count": null,
   "metadata": {
    "scrolled": false
   },
   "outputs": [],
   "source": [
    "tree_uncustomized = DecisionTreeClassifier(random_state = 1234)\n",
    "tree_uncustomized.fit(df_train_x, df_train_y)\n",
    "\n",
    "print('Score on traing set: {:.3f}'.format(tree_uncustomized.score(df_train_x, df_train_y)))\n",
    "print('Score on test set: {:.3f}'.format(tree_uncustomized.score(df_test_x, df_test_y)))\n"
   ]
  },
  {
   "cell_type": "code",
   "execution_count": null,
   "metadata": {},
   "outputs": [],
   "source": [
    "tree_uncustomized"
   ]
  },
  {
   "cell_type": "code",
   "execution_count": null,
   "metadata": {},
   "outputs": [],
   "source": [
    "train_score = []; test_score=[]\n",
    "\n",
    "para_depth = [depth for  depth in range(1,14)]\n",
    "\n",
    "for v_max_depth in para_depth:\n",
    "    tree = DecisionTreeClassifier(random_state = 1234, max_depth= v_max_depth)\n",
    "    tree.fit(df_train_x, df_train_y)\n",
    "    train_score.append(tree.score(df_train_x, df_train_y))\n",
    "    test_score.append(tree.score(df_test_x, df_test_y))\n",
    "    \n",
    "df_score_depth = pd.DataFrame()\n",
    "df_score_depth['Depth']= para_depth\n",
    "df_score_depth['TrainScore'] = train_score\n",
    "df_score_depth['TestScore'] = test_score\n",
    "df_score_depth.round(3)"
   ]
  },
  {
   "cell_type": "code",
   "execution_count": null,
   "metadata": {},
   "outputs": [],
   "source": [
    "plt.plot(para_depth, train_score, linestyle = '--', label = 'TrainScore' )\n",
    "plt.plot(para_depth, test_score, linestyle = '--', label = 'TestScore' )\n",
    "plt.legend()"
   ]
  },
  {
   "cell_type": "markdown",
   "metadata": {},
   "source": [
    "max_depth=8"
   ]
  },
  {
   "cell_type": "code",
   "execution_count": null,
   "metadata": {
    "scrolled": true
   },
   "outputs": [],
   "source": [
    "4757*0.01"
   ]
  },
  {
   "cell_type": "code",
   "execution_count": null,
   "metadata": {},
   "outputs": [],
   "source": [
    "train_score = []; test_score=[]\n",
    "\n",
    "para_leaf = [n_leaf * 1 for  n_leaf in range(1,100)]\n",
    "\n",
    "for v_min_samples_leaf in para_leaf:\n",
    "    tree = DecisionTreeClassifier(random_state = 1234, min_samples_leaf = v_min_samples_leaf,\\\n",
    "                                 max_depth=9)\n",
    "    tree.fit(df_train_x, df_train_y)\n",
    "    train_score.append(tree.score(df_train_x, df_train_y))\n",
    "    test_score.append(tree.score(df_test_x, df_test_y))\n",
    "    \n",
    "df_score_leaf = pd.DataFrame()\n",
    "df_score_leaf['MinSamplesLeaf'] = para_leaf\n",
    "df_score_leaf['TrainScore'] = train_score\n",
    "df_score_leaf['TestScore'] = test_score\n",
    "df_score_leaf.round(3)"
   ]
  },
  {
   "cell_type": "code",
   "execution_count": null,
   "metadata": {},
   "outputs": [],
   "source": [
    "plt.plot(para_leaf, train_score, linestyle = '--', label = 'TrainScore' )\n",
    "plt.plot(para_leaf, test_score, linestyle = '--', label = 'TestScore' )\n",
    "plt.legend()"
   ]
  },
  {
   "cell_type": "code",
   "execution_count": null,
   "metadata": {},
   "outputs": [],
   "source": [
    "train_score = []; test_score=[]\n",
    "\n",
    "para_split = [n_split * 10 for  n_split in range(1, 11)]\n",
    "\n",
    "for v_min_samples_split in para_split:\n",
    "    tree = DecisionTreeClassifier(random_state = 1234, min_samples_leaf =47,\\\n",
    "                                 min_samples_split = v_min_samples_split,max_depth=9)\n",
    "    tree.fit(df_train_x, df_train_y)\n",
    "    train_score.append(tree.score(df_train_x, df_train_y))\n",
    "    test_score.append(tree.score(df_test_x, df_test_y))\n",
    "    \n",
    "df_score_split = pd.DataFrame()\n",
    "df_score_split['MinSamplesSplit'] = para_split\n",
    "df_score_split['TrainScore'] = train_score\n",
    "df_score_split['TestScore'] = test_score\n",
    "df_score_split.round(3)"
   ]
  },
  {
   "cell_type": "code",
   "execution_count": null,
   "metadata": {},
   "outputs": [],
   "source": [
    "plt.plot(para_split, train_score, linestyle = '--', label = 'TrainScore' )\n",
    "plt.plot(para_split, test_score, linestyle = '--', label = 'TestScore' )\n",
    "plt.legend()"
   ]
  },
  {
   "cell_type": "code",
   "execution_count": null,
   "metadata": {},
   "outputs": [],
   "source": [
    "tree_final = DecisionTreeClassifier(min_samples_leaf = 47, max_depth = 9, random_state = 1234)\n",
    "tree_final.fit(df_train_x, df_train_y)\n",
    "print(\"Score on training set: {:.3f}\".format(tree_final.score(df_train_x, df_train_y)))\n",
    "print(\"Score on test set: {:.3f}\".format(tree_final.score(df_test_x, df_test_y)))\n"
   ]
  },
  {
   "cell_type": "code",
   "execution_count": null,
   "metadata": {},
   "outputs": [],
   "source": [
    "v_feature_name = df_train_x.columns\n",
    "\n",
    "export_graphviz(tree_final, out_file = 'tree_finalDecisionTreeClassifier.dot', class_names = ['accept','bt'],\n",
    "               feature_names = v_feature_name, impurity = True, filled = True)\n",
    "with open('tree_finalDecisionTreeClassifier.dot') as f:\n",
    "    dot_graph = f.read()\n",
    "display(graphviz.Source(dot_graph))\n",
    "graph = graphviz.Source(dot_graph)\n",
    "graph.format='png'\n",
    "graph.render('dtree_render', view = True)"
   ]
  },
  {
   "cell_type": "code",
   "execution_count": null,
   "metadata": {},
   "outputs": [],
   "source": [
    "y_pred = tree_final.predict(df_test_x)\n",
    "y_pred[0]"
   ]
  },
  {
   "cell_type": "code",
   "execution_count": null,
   "metadata": {},
   "outputs": [],
   "source": [
    "df_importance = pd.DataFrame()\n",
    "df_importance['Feature'] = v_feature_name\n",
    "df_importance['Importance'] = tree_final.feature_importances_\n",
    "\n",
    "df_importance.sort_values('Importance', ascending = False, inplace = True)\n",
    "df_importance.round(3)"
   ]
  },
  {
   "cell_type": "code",
   "execution_count": null,
   "metadata": {},
   "outputs": [],
   "source": [
    "df_importance.sort_values('Importance', ascending = True, inplace = True)\n",
    "coordinates = range(len(df_importance))\n",
    "plt.barh(y= coordinates, width = df_importance['Importance'])\n",
    "plt.yticks(coordinates, df_importance['Feature'])\n",
    "plt.xlabel('importance')\n",
    "plt.ylabel('variable')"
   ]
  },
  {
   "cell_type": "code",
   "execution_count": null,
   "metadata": {},
   "outputs": [],
   "source": [
    "df_test_x"
   ]
  },
  {
   "cell_type": "code",
   "execution_count": null,
   "metadata": {},
   "outputs": [],
   "source": []
  },
  {
   "cell_type": "code",
   "execution_count": null,
   "metadata": {},
   "outputs": [],
   "source": []
  }
 ],
 "metadata": {
  "kernelspec": {
   "display_name": "Python 3",
   "language": "python",
   "name": "python3"
  },
  "language_info": {
   "codemirror_mode": {
    "name": "ipython",
    "version": 3
   },
   "file_extension": ".py",
   "mimetype": "text/x-python",
   "name": "python",
   "nbconvert_exporter": "python",
   "pygments_lexer": "ipython3",
   "version": "3.7.6"
  }
 },
 "nbformat": 4,
 "nbformat_minor": 4
}
