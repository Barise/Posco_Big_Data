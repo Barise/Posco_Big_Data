{
 "cells": [
  {
   "cell_type": "markdown",
   "metadata": {},
   "source": [
    "# Support Vector Machine"
   ]
  },
  {
   "cell_type": "markdown",
   "metadata": {},
   "source": [
    "### 0. 패키지 불러오기"
   ]
  },
  {
   "cell_type": "code",
   "execution_count": 1,
   "metadata": {},
   "outputs": [],
   "source": [
    "import pandas as pd\n",
    "import matplotlib\n",
    "import matplotlib.pyplot as plt\n",
    "%matplotlib inline\n",
    "\n",
    "# 우분투 한글깨짐 현상 해결\n",
    "matplotlib.rcParams['axes.unicode_minus'] = False\n",
    "plt.rcParams[\"font.family\"] = 'NanumGothic'\n",
    "\n",
    "# 윈도우 한글깨짐 현상 해결\n",
    "matplotlib.rc(\"font\", family = \"Malgun Gothic\")\n",
    "\n",
    "from sklearn.model_selection import train_test_split\n",
    "from sklearn.model_selection import GridSearchCV\n",
    "from sklearn.metrics import confusion_matrix\n",
    "from sklearn.preprocessing import StandardScaler\n",
    "\n",
    "from sklearn.svm import SVC"
   ]
  },
  {
   "cell_type": "markdown",
   "metadata": {},
   "source": [
    "### 1. 데이터 구성하기"
   ]
  },
  {
   "cell_type": "code",
   "execution_count": 2,
   "metadata": {},
   "outputs": [
    {
     "data": {
      "text/html": [
       "<div>\n",
       "<style scoped>\n",
       "    .dataframe tbody tr th:only-of-type {\n",
       "        vertical-align: middle;\n",
       "    }\n",
       "\n",
       "    .dataframe tbody tr th {\n",
       "        vertical-align: top;\n",
       "    }\n",
       "\n",
       "    .dataframe thead th {\n",
       "        text-align: right;\n",
       "    }\n",
       "</style>\n",
       "<table border=\"1\" class=\"dataframe\">\n",
       "  <thead>\n",
       "    <tr style=\"text-align: right;\">\n",
       "      <th></th>\n",
       "      <th>customer_id</th>\n",
       "      <th>insu_risk_expense</th>\n",
       "      <th>gender</th>\n",
       "      <th>age</th>\n",
       "      <th>bmi</th>\n",
       "      <th>waist</th>\n",
       "      <th>bp_min</th>\n",
       "      <th>bp_max</th>\n",
       "      <th>bt_chol</th>\n",
       "      <th>bt_gluc</th>\n",
       "      <th>bt_rgpt</th>\n",
       "      <th>bt_sgot</th>\n",
       "      <th>bt_sgpt</th>\n",
       "      <th>risk</th>\n",
       "    </tr>\n",
       "  </thead>\n",
       "  <tbody>\n",
       "    <tr>\n",
       "      <th>0</th>\n",
       "      <td>C117780</td>\n",
       "      <td>194376.0</td>\n",
       "      <td>M</td>\n",
       "      <td>50</td>\n",
       "      <td>23.939481</td>\n",
       "      <td>83.0</td>\n",
       "      <td>85</td>\n",
       "      <td>130</td>\n",
       "      <td>252.0</td>\n",
       "      <td>87.0</td>\n",
       "      <td>42.0</td>\n",
       "      <td>18.0</td>\n",
       "      <td>19.0</td>\n",
       "      <td>0</td>\n",
       "    </tr>\n",
       "    <tr>\n",
       "      <th>1</th>\n",
       "      <td>C117780</td>\n",
       "      <td>-1869370.0</td>\n",
       "      <td>M</td>\n",
       "      <td>50</td>\n",
       "      <td>23.939481</td>\n",
       "      <td>83.0</td>\n",
       "      <td>85</td>\n",
       "      <td>130</td>\n",
       "      <td>252.0</td>\n",
       "      <td>87.0</td>\n",
       "      <td>42.0</td>\n",
       "      <td>18.0</td>\n",
       "      <td>19.0</td>\n",
       "      <td>1</td>\n",
       "    </tr>\n",
       "    <tr>\n",
       "      <th>2</th>\n",
       "      <td>C121178</td>\n",
       "      <td>-913949.0</td>\n",
       "      <td>M</td>\n",
       "      <td>30</td>\n",
       "      <td>24.816327</td>\n",
       "      <td>86.0</td>\n",
       "      <td>80</td>\n",
       "      <td>125</td>\n",
       "      <td>210.0</td>\n",
       "      <td>96.0</td>\n",
       "      <td>134.0</td>\n",
       "      <td>16.0</td>\n",
       "      <td>27.0</td>\n",
       "      <td>1</td>\n",
       "    </tr>\n",
       "    <tr>\n",
       "      <th>3</th>\n",
       "      <td>C116605</td>\n",
       "      <td>-1813374.0</td>\n",
       "      <td>M</td>\n",
       "      <td>50</td>\n",
       "      <td>26.259585</td>\n",
       "      <td>88.0</td>\n",
       "      <td>80</td>\n",
       "      <td>130</td>\n",
       "      <td>223.0</td>\n",
       "      <td>114.0</td>\n",
       "      <td>196.0</td>\n",
       "      <td>26.0</td>\n",
       "      <td>23.0</td>\n",
       "      <td>1</td>\n",
       "    </tr>\n",
       "    <tr>\n",
       "      <th>4</th>\n",
       "      <td>C129391</td>\n",
       "      <td>-4495124.0</td>\n",
       "      <td>F</td>\n",
       "      <td>35</td>\n",
       "      <td>19.227688</td>\n",
       "      <td>72.0</td>\n",
       "      <td>80</td>\n",
       "      <td>120</td>\n",
       "      <td>157.0</td>\n",
       "      <td>84.0</td>\n",
       "      <td>10.0</td>\n",
       "      <td>11.0</td>\n",
       "      <td>8.0</td>\n",
       "      <td>1</td>\n",
       "    </tr>\n",
       "  </tbody>\n",
       "</table>\n",
       "</div>"
      ],
      "text/plain": [
       "  customer_id  insu_risk_expense gender  age        bmi  waist  bp_min  \\\n",
       "0     C117780           194376.0      M   50  23.939481   83.0      85   \n",
       "1     C117780         -1869370.0      M   50  23.939481   83.0      85   \n",
       "2     C121178          -913949.0      M   30  24.816327   86.0      80   \n",
       "3     C116605         -1813374.0      M   50  26.259585   88.0      80   \n",
       "4     C129391         -4495124.0      F   35  19.227688   72.0      80   \n",
       "\n",
       "   bp_max  bt_chol  bt_gluc  bt_rgpt  bt_sgot  bt_sgpt  risk  \n",
       "0     130    252.0     87.0     42.0     18.0     19.0     0  \n",
       "1     130    252.0     87.0     42.0     18.0     19.0     1  \n",
       "2     125    210.0     96.0    134.0     16.0     27.0     1  \n",
       "3     130    223.0    114.0    196.0     26.0     23.0     1  \n",
       "4     120    157.0     84.0     10.0     11.0      8.0     1  "
      ]
     },
     "execution_count": 2,
     "metadata": {},
     "output_type": "execute_result"
    }
   ],
   "source": [
    "df_raw = pd.read_excel('model2_dataset.xlsx')\n",
    "df_raw.head()"
   ]
  },
  {
   "cell_type": "code",
   "execution_count": 3,
   "metadata": {},
   "outputs": [
    {
     "data": {
      "text/plain": [
       "customer_id             0\n",
       "insu_risk_expense       0\n",
       "gender                  0\n",
       "age                     0\n",
       "bmi                     0\n",
       "waist                   0\n",
       "bp_min                  0\n",
       "bp_max                  0\n",
       "bt_chol              1097\n",
       "bt_gluc              1097\n",
       "bt_rgpt              2919\n",
       "bt_sgot              2823\n",
       "bt_sgpt              1097\n",
       "risk                    0\n",
       "dtype: int64"
      ]
     },
     "execution_count": 3,
     "metadata": {},
     "output_type": "execute_result"
    }
   ],
   "source": [
    "# 결측치 확인\n",
    "df_raw.isnull().sum(axis = 0)"
   ]
  },
  {
   "cell_type": "code",
   "execution_count": 4,
   "metadata": {},
   "outputs": [],
   "source": [
    "df_raw.dropna(inplace=True)"
   ]
  },
  {
   "cell_type": "code",
   "execution_count": 5,
   "metadata": {},
   "outputs": [],
   "source": [
    "df_raw.drop(['customer_id'], axis=1, inplace=True)"
   ]
  },
  {
   "cell_type": "code",
   "execution_count": 6,
   "metadata": {},
   "outputs": [
    {
     "data": {
      "text/html": [
       "<div>\n",
       "<style scoped>\n",
       "    .dataframe tbody tr th:only-of-type {\n",
       "        vertical-align: middle;\n",
       "    }\n",
       "\n",
       "    .dataframe tbody tr th {\n",
       "        vertical-align: top;\n",
       "    }\n",
       "\n",
       "    .dataframe thead th {\n",
       "        text-align: right;\n",
       "    }\n",
       "</style>\n",
       "<table border=\"1\" class=\"dataframe\">\n",
       "  <thead>\n",
       "    <tr style=\"text-align: right;\">\n",
       "      <th></th>\n",
       "      <th>insu_risk_expense</th>\n",
       "      <th>age</th>\n",
       "      <th>bmi</th>\n",
       "      <th>waist</th>\n",
       "      <th>bp_min</th>\n",
       "      <th>bp_max</th>\n",
       "      <th>bt_chol</th>\n",
       "      <th>bt_gluc</th>\n",
       "      <th>bt_rgpt</th>\n",
       "      <th>bt_sgot</th>\n",
       "      <th>bt_sgpt</th>\n",
       "      <th>risk</th>\n",
       "      <th>gender_F</th>\n",
       "      <th>gender_M</th>\n",
       "    </tr>\n",
       "  </thead>\n",
       "  <tbody>\n",
       "    <tr>\n",
       "      <th>0</th>\n",
       "      <td>194376.0</td>\n",
       "      <td>50</td>\n",
       "      <td>23.939481</td>\n",
       "      <td>83.0</td>\n",
       "      <td>85</td>\n",
       "      <td>130</td>\n",
       "      <td>252.0</td>\n",
       "      <td>87.0</td>\n",
       "      <td>42.0</td>\n",
       "      <td>18.0</td>\n",
       "      <td>19.0</td>\n",
       "      <td>0</td>\n",
       "      <td>0</td>\n",
       "      <td>1</td>\n",
       "    </tr>\n",
       "    <tr>\n",
       "      <th>1</th>\n",
       "      <td>-1869370.0</td>\n",
       "      <td>50</td>\n",
       "      <td>23.939481</td>\n",
       "      <td>83.0</td>\n",
       "      <td>85</td>\n",
       "      <td>130</td>\n",
       "      <td>252.0</td>\n",
       "      <td>87.0</td>\n",
       "      <td>42.0</td>\n",
       "      <td>18.0</td>\n",
       "      <td>19.0</td>\n",
       "      <td>1</td>\n",
       "      <td>0</td>\n",
       "      <td>1</td>\n",
       "    </tr>\n",
       "    <tr>\n",
       "      <th>2</th>\n",
       "      <td>-913949.0</td>\n",
       "      <td>30</td>\n",
       "      <td>24.816327</td>\n",
       "      <td>86.0</td>\n",
       "      <td>80</td>\n",
       "      <td>125</td>\n",
       "      <td>210.0</td>\n",
       "      <td>96.0</td>\n",
       "      <td>134.0</td>\n",
       "      <td>16.0</td>\n",
       "      <td>27.0</td>\n",
       "      <td>1</td>\n",
       "      <td>0</td>\n",
       "      <td>1</td>\n",
       "    </tr>\n",
       "    <tr>\n",
       "      <th>3</th>\n",
       "      <td>-1813374.0</td>\n",
       "      <td>50</td>\n",
       "      <td>26.259585</td>\n",
       "      <td>88.0</td>\n",
       "      <td>80</td>\n",
       "      <td>130</td>\n",
       "      <td>223.0</td>\n",
       "      <td>114.0</td>\n",
       "      <td>196.0</td>\n",
       "      <td>26.0</td>\n",
       "      <td>23.0</td>\n",
       "      <td>1</td>\n",
       "      <td>0</td>\n",
       "      <td>1</td>\n",
       "    </tr>\n",
       "    <tr>\n",
       "      <th>4</th>\n",
       "      <td>-4495124.0</td>\n",
       "      <td>35</td>\n",
       "      <td>19.227688</td>\n",
       "      <td>72.0</td>\n",
       "      <td>80</td>\n",
       "      <td>120</td>\n",
       "      <td>157.0</td>\n",
       "      <td>84.0</td>\n",
       "      <td>10.0</td>\n",
       "      <td>11.0</td>\n",
       "      <td>8.0</td>\n",
       "      <td>1</td>\n",
       "      <td>1</td>\n",
       "      <td>0</td>\n",
       "    </tr>\n",
       "  </tbody>\n",
       "</table>\n",
       "</div>"
      ],
      "text/plain": [
       "   insu_risk_expense  age        bmi  waist  bp_min  bp_max  bt_chol  bt_gluc  \\\n",
       "0           194376.0   50  23.939481   83.0      85     130    252.0     87.0   \n",
       "1         -1869370.0   50  23.939481   83.0      85     130    252.0     87.0   \n",
       "2          -913949.0   30  24.816327   86.0      80     125    210.0     96.0   \n",
       "3         -1813374.0   50  26.259585   88.0      80     130    223.0    114.0   \n",
       "4         -4495124.0   35  19.227688   72.0      80     120    157.0     84.0   \n",
       "\n",
       "   bt_rgpt  bt_sgot  bt_sgpt  risk  gender_F  gender_M  \n",
       "0     42.0     18.0     19.0     0         0         1  \n",
       "1     42.0     18.0     19.0     1         0         1  \n",
       "2    134.0     16.0     27.0     1         0         1  \n",
       "3    196.0     26.0     23.0     1         0         1  \n",
       "4     10.0     11.0      8.0     1         1         0  "
      ]
     },
     "execution_count": 6,
     "metadata": {},
     "output_type": "execute_result"
    }
   ],
   "source": [
    "df_raw_dummy = pd.get_dummies(df_raw)\n",
    "df_raw_dummy.head()"
   ]
  },
  {
   "cell_type": "code",
   "execution_count": 7,
   "metadata": {},
   "outputs": [],
   "source": [
    "df_raw_y = df_raw_dummy['risk']\n",
    "df_raw_x = df_raw_dummy.drop(['risk', 'insu_risk_expense'], axis=1, inplace=False)"
   ]
  },
  {
   "cell_type": "code",
   "execution_count": 8,
   "metadata": {},
   "outputs": [
    {
     "data": {
      "text/html": [
       "<div>\n",
       "<style scoped>\n",
       "    .dataframe tbody tr th:only-of-type {\n",
       "        vertical-align: middle;\n",
       "    }\n",
       "\n",
       "    .dataframe tbody tr th {\n",
       "        vertical-align: top;\n",
       "    }\n",
       "\n",
       "    .dataframe thead th {\n",
       "        text-align: right;\n",
       "    }\n",
       "</style>\n",
       "<table border=\"1\" class=\"dataframe\">\n",
       "  <thead>\n",
       "    <tr style=\"text-align: right;\">\n",
       "      <th></th>\n",
       "      <th>age</th>\n",
       "      <th>bmi</th>\n",
       "      <th>waist</th>\n",
       "      <th>bp_min</th>\n",
       "      <th>bp_max</th>\n",
       "      <th>bt_chol</th>\n",
       "      <th>bt_gluc</th>\n",
       "      <th>bt_rgpt</th>\n",
       "      <th>bt_sgot</th>\n",
       "      <th>bt_sgpt</th>\n",
       "      <th>gender_F</th>\n",
       "      <th>gender_M</th>\n",
       "    </tr>\n",
       "  </thead>\n",
       "  <tbody>\n",
       "    <tr>\n",
       "      <th>0</th>\n",
       "      <td>50</td>\n",
       "      <td>23.939481</td>\n",
       "      <td>83.0</td>\n",
       "      <td>85</td>\n",
       "      <td>130</td>\n",
       "      <td>252.0</td>\n",
       "      <td>87.0</td>\n",
       "      <td>42.0</td>\n",
       "      <td>18.0</td>\n",
       "      <td>19.0</td>\n",
       "      <td>0</td>\n",
       "      <td>1</td>\n",
       "    </tr>\n",
       "    <tr>\n",
       "      <th>1</th>\n",
       "      <td>50</td>\n",
       "      <td>23.939481</td>\n",
       "      <td>83.0</td>\n",
       "      <td>85</td>\n",
       "      <td>130</td>\n",
       "      <td>252.0</td>\n",
       "      <td>87.0</td>\n",
       "      <td>42.0</td>\n",
       "      <td>18.0</td>\n",
       "      <td>19.0</td>\n",
       "      <td>0</td>\n",
       "      <td>1</td>\n",
       "    </tr>\n",
       "    <tr>\n",
       "      <th>2</th>\n",
       "      <td>30</td>\n",
       "      <td>24.816327</td>\n",
       "      <td>86.0</td>\n",
       "      <td>80</td>\n",
       "      <td>125</td>\n",
       "      <td>210.0</td>\n",
       "      <td>96.0</td>\n",
       "      <td>134.0</td>\n",
       "      <td>16.0</td>\n",
       "      <td>27.0</td>\n",
       "      <td>0</td>\n",
       "      <td>1</td>\n",
       "    </tr>\n",
       "    <tr>\n",
       "      <th>3</th>\n",
       "      <td>50</td>\n",
       "      <td>26.259585</td>\n",
       "      <td>88.0</td>\n",
       "      <td>80</td>\n",
       "      <td>130</td>\n",
       "      <td>223.0</td>\n",
       "      <td>114.0</td>\n",
       "      <td>196.0</td>\n",
       "      <td>26.0</td>\n",
       "      <td>23.0</td>\n",
       "      <td>0</td>\n",
       "      <td>1</td>\n",
       "    </tr>\n",
       "    <tr>\n",
       "      <th>4</th>\n",
       "      <td>35</td>\n",
       "      <td>19.227688</td>\n",
       "      <td>72.0</td>\n",
       "      <td>80</td>\n",
       "      <td>120</td>\n",
       "      <td>157.0</td>\n",
       "      <td>84.0</td>\n",
       "      <td>10.0</td>\n",
       "      <td>11.0</td>\n",
       "      <td>8.0</td>\n",
       "      <td>1</td>\n",
       "      <td>0</td>\n",
       "    </tr>\n",
       "  </tbody>\n",
       "</table>\n",
       "</div>"
      ],
      "text/plain": [
       "   age        bmi  waist  bp_min  bp_max  bt_chol  bt_gluc  bt_rgpt  bt_sgot  \\\n",
       "0   50  23.939481   83.0      85     130    252.0     87.0     42.0     18.0   \n",
       "1   50  23.939481   83.0      85     130    252.0     87.0     42.0     18.0   \n",
       "2   30  24.816327   86.0      80     125    210.0     96.0    134.0     16.0   \n",
       "3   50  26.259585   88.0      80     130    223.0    114.0    196.0     26.0   \n",
       "4   35  19.227688   72.0      80     120    157.0     84.0     10.0     11.0   \n",
       "\n",
       "   bt_sgpt  gender_F  gender_M  \n",
       "0     19.0         0         1  \n",
       "1     19.0         0         1  \n",
       "2     27.0         0         1  \n",
       "3     23.0         0         1  \n",
       "4      8.0         1         0  "
      ]
     },
     "execution_count": 8,
     "metadata": {},
     "output_type": "execute_result"
    }
   ],
   "source": [
    "df_raw_x.head()"
   ]
  },
  {
   "cell_type": "code",
   "execution_count": 9,
   "metadata": {},
   "outputs": [
    {
     "name": "stdout",
     "output_type": "stream",
     "text": [
      "train data size : (1284, 12)\n",
      "test data size : (551, 12)\n",
      "train data size : (1284,)\n",
      "test data size : (551,)\n"
     ]
    }
   ],
   "source": [
    "df_train_x, df_test_x,df_train_y, df_test_y = train_test_split(df_raw_x, df_raw_y, test_size = 0.3, random_state = 1234)\n",
    "print(\"train data size : {}\".format(df_train_x.shape))\n",
    "print(\"test data size : {}\".format(df_test_x.shape))\n",
    "print(\"train data size : {}\".format(df_train_y.shape))\n",
    "print(\"test data size : {}\".format(df_test_y.shape))"
   ]
  },
  {
   "cell_type": "code",
   "execution_count": 10,
   "metadata": {},
   "outputs": [
    {
     "data": {
      "text/html": [
       "<div>\n",
       "<style scoped>\n",
       "    .dataframe tbody tr th:only-of-type {\n",
       "        vertical-align: middle;\n",
       "    }\n",
       "\n",
       "    .dataframe tbody tr th {\n",
       "        vertical-align: top;\n",
       "    }\n",
       "\n",
       "    .dataframe thead th {\n",
       "        text-align: right;\n",
       "    }\n",
       "</style>\n",
       "<table border=\"1\" class=\"dataframe\">\n",
       "  <thead>\n",
       "    <tr style=\"text-align: right;\">\n",
       "      <th></th>\n",
       "      <th>age</th>\n",
       "      <th>bmi</th>\n",
       "      <th>waist</th>\n",
       "      <th>bp_min</th>\n",
       "      <th>bp_max</th>\n",
       "      <th>bt_chol</th>\n",
       "      <th>bt_gluc</th>\n",
       "      <th>bt_rgpt</th>\n",
       "      <th>bt_sgot</th>\n",
       "      <th>bt_sgpt</th>\n",
       "      <th>gender_F</th>\n",
       "      <th>gender_M</th>\n",
       "    </tr>\n",
       "  </thead>\n",
       "  <tbody>\n",
       "    <tr>\n",
       "      <th>0</th>\n",
       "      <td>0.412893</td>\n",
       "      <td>0.083810</td>\n",
       "      <td>0.227569</td>\n",
       "      <td>1.181952</td>\n",
       "      <td>1.190383</td>\n",
       "      <td>1.571354</td>\n",
       "      <td>-0.192367</td>\n",
       "      <td>0.023456</td>\n",
       "      <td>-0.578876</td>\n",
       "      <td>-0.435988</td>\n",
       "      <td>-0.638975</td>\n",
       "      <td>0.638975</td>\n",
       "    </tr>\n",
       "    <tr>\n",
       "      <th>1</th>\n",
       "      <td>0.412893</td>\n",
       "      <td>0.083810</td>\n",
       "      <td>0.227569</td>\n",
       "      <td>1.181952</td>\n",
       "      <td>1.190383</td>\n",
       "      <td>1.571354</td>\n",
       "      <td>-0.192367</td>\n",
       "      <td>0.023456</td>\n",
       "      <td>-0.578876</td>\n",
       "      <td>-0.435988</td>\n",
       "      <td>-0.638975</td>\n",
       "      <td>0.638975</td>\n",
       "    </tr>\n",
       "    <tr>\n",
       "      <th>2</th>\n",
       "      <td>-1.627937</td>\n",
       "      <td>0.432417</td>\n",
       "      <td>0.609750</td>\n",
       "      <td>0.303933</td>\n",
       "      <td>0.606862</td>\n",
       "      <td>0.352180</td>\n",
       "      <td>0.491875</td>\n",
       "      <td>2.647571</td>\n",
       "      <td>-0.769668</td>\n",
       "      <td>0.026328</td>\n",
       "      <td>-0.638975</td>\n",
       "      <td>0.638975</td>\n",
       "    </tr>\n",
       "    <tr>\n",
       "      <th>3</th>\n",
       "      <td>0.412893</td>\n",
       "      <td>1.006211</td>\n",
       "      <td>0.864538</td>\n",
       "      <td>0.303933</td>\n",
       "      <td>1.190383</td>\n",
       "      <td>0.729543</td>\n",
       "      <td>1.860360</td>\n",
       "      <td>4.415996</td>\n",
       "      <td>0.184294</td>\n",
       "      <td>-0.204830</td>\n",
       "      <td>-0.638975</td>\n",
       "      <td>0.638975</td>\n",
       "    </tr>\n",
       "    <tr>\n",
       "      <th>4</th>\n",
       "      <td>-1.117730</td>\n",
       "      <td>-1.789452</td>\n",
       "      <td>-1.173765</td>\n",
       "      <td>0.303933</td>\n",
       "      <td>0.023341</td>\n",
       "      <td>-1.186302</td>\n",
       "      <td>-0.420447</td>\n",
       "      <td>-0.889280</td>\n",
       "      <td>-1.246650</td>\n",
       "      <td>-1.071672</td>\n",
       "      <td>1.565007</td>\n",
       "      <td>-1.565007</td>\n",
       "    </tr>\n",
       "  </tbody>\n",
       "</table>\n",
       "</div>"
      ],
      "text/plain": [
       "        age       bmi     waist    bp_min    bp_max   bt_chol   bt_gluc  \\\n",
       "0  0.412893  0.083810  0.227569  1.181952  1.190383  1.571354 -0.192367   \n",
       "1  0.412893  0.083810  0.227569  1.181952  1.190383  1.571354 -0.192367   \n",
       "2 -1.627937  0.432417  0.609750  0.303933  0.606862  0.352180  0.491875   \n",
       "3  0.412893  1.006211  0.864538  0.303933  1.190383  0.729543  1.860360   \n",
       "4 -1.117730 -1.789452 -1.173765  0.303933  0.023341 -1.186302 -0.420447   \n",
       "\n",
       "    bt_rgpt   bt_sgot   bt_sgpt  gender_F  gender_M  \n",
       "0  0.023456 -0.578876 -0.435988 -0.638975  0.638975  \n",
       "1  0.023456 -0.578876 -0.435988 -0.638975  0.638975  \n",
       "2  2.647571 -0.769668  0.026328 -0.638975  0.638975  \n",
       "3  4.415996  0.184294 -0.204830 -0.638975  0.638975  \n",
       "4 -0.889280 -1.246650 -1.071672  1.565007 -1.565007  "
      ]
     },
     "execution_count": 10,
     "metadata": {},
     "output_type": "execute_result"
    }
   ],
   "source": [
    "v_feature_name = df_train_x.columns\n",
    "\n",
    "scaler = StandardScaler()\n",
    "df_scaled_x = scaler.fit_transform(df_raw_x)\n",
    "df_scaled_x = pd.DataFrame(df_scaled_x, columns=v_feature_name)\n",
    "df_scaled_x.head()"
   ]
  },
  {
   "cell_type": "markdown",
   "metadata": {},
   "source": [
    "서포트 벡터 머신의 경우 피쳐의 스케일링이 꼭 필요하므로 스케일링하였다."
   ]
  },
  {
   "cell_type": "code",
   "execution_count": 11,
   "metadata": {},
   "outputs": [
    {
     "name": "stdout",
     "output_type": "stream",
     "text": [
      "train data X size :(1284, 12)\n",
      "train data Y size :(1284,)\n",
      "test data X size :(551, 12)\n",
      "test data Y size :(551,)\n"
     ]
    }
   ],
   "source": [
    "df_train_x, df_test_x, df_train_y, df_test_y = train_test_split(df_scaled_x, df_raw_y, test_size=0.3, random_state=1234)\n",
    "\n",
    "print(\"train data X size :{}\".format(df_train_x.shape))\n",
    "print(\"train data Y size :{}\".format(df_train_y.shape))\n",
    "print(\"test data X size :{}\".format(df_test_x.shape))\n",
    "print(\"test data Y size :{}\".format(df_test_y.shape))"
   ]
  },
  {
   "cell_type": "markdown",
   "metadata": {},
   "source": [
    "### 2. 모델 생성 - Parameter 조정 및 평가"
   ]
  },
  {
   "cell_type": "code",
   "execution_count": 12,
   "metadata": {
    "scrolled": false
   },
   "outputs": [
    {
     "name": "stdout",
     "output_type": "stream",
     "text": [
      "Accuracy on training set:0.620\n",
      "Accuracy on test set:0.517\n"
     ]
    }
   ],
   "source": [
    "svm_uncustomized = SVC(random_state=1234)\n",
    "svm_uncustomized.fit(df_train_x,df_train_y)\n",
    "\n",
    "print(\"Accuracy on training set:{:.3f}\".format(svm_uncustomized.score(df_train_x,df_train_y)))\n",
    "print(\"Accuracy on test set:{:.3f}\".format(svm_uncustomized.score(df_test_x,df_test_y)))"
   ]
  },
  {
   "cell_type": "code",
   "execution_count": 13,
   "metadata": {
    "scrolled": false
   },
   "outputs": [
    {
     "data": {
      "text/plain": [
       "SVC(C=1.0, break_ties=False, cache_size=200, class_weight=None, coef0=0.0,\n",
       "    decision_function_shape='ovr', degree=3, gamma='scale', kernel='rbf',\n",
       "    max_iter=-1, probability=False, random_state=1234, shrinking=True,\n",
       "    tol=0.001, verbose=False)"
      ]
     },
     "execution_count": 13,
     "metadata": {},
     "output_type": "execute_result"
    }
   ],
   "source": [
    "svm_uncustomized"
   ]
  },
  {
   "cell_type": "code",
   "execution_count": 14,
   "metadata": {
    "scrolled": true
   },
   "outputs": [
    {
     "data": {
      "text/html": [
       "<div>\n",
       "<style scoped>\n",
       "    .dataframe tbody tr th:only-of-type {\n",
       "        vertical-align: middle;\n",
       "    }\n",
       "\n",
       "    .dataframe tbody tr th {\n",
       "        vertical-align: top;\n",
       "    }\n",
       "\n",
       "    .dataframe thead th {\n",
       "        text-align: right;\n",
       "    }\n",
       "</style>\n",
       "<table border=\"1\" class=\"dataframe\">\n",
       "  <thead>\n",
       "    <tr style=\"text-align: right;\">\n",
       "      <th></th>\n",
       "      <th>C</th>\n",
       "      <th>TrainAccuracy</th>\n",
       "      <th>TestAccuracy</th>\n",
       "    </tr>\n",
       "  </thead>\n",
       "  <tbody>\n",
       "    <tr>\n",
       "      <th>0</th>\n",
       "      <td>0.5</td>\n",
       "      <td>0.594</td>\n",
       "      <td>0.492</td>\n",
       "    </tr>\n",
       "    <tr>\n",
       "      <th>1</th>\n",
       "      <td>1.0</td>\n",
       "      <td>0.620</td>\n",
       "      <td>0.517</td>\n",
       "    </tr>\n",
       "    <tr>\n",
       "      <th>2</th>\n",
       "      <td>1.5</td>\n",
       "      <td>0.643</td>\n",
       "      <td>0.512</td>\n",
       "    </tr>\n",
       "    <tr>\n",
       "      <th>3</th>\n",
       "      <td>2.0</td>\n",
       "      <td>0.663</td>\n",
       "      <td>0.521</td>\n",
       "    </tr>\n",
       "    <tr>\n",
       "      <th>4</th>\n",
       "      <td>2.5</td>\n",
       "      <td>0.677</td>\n",
       "      <td>0.519</td>\n",
       "    </tr>\n",
       "    <tr>\n",
       "      <th>5</th>\n",
       "      <td>3.0</td>\n",
       "      <td>0.694</td>\n",
       "      <td>0.517</td>\n",
       "    </tr>\n",
       "    <tr>\n",
       "      <th>6</th>\n",
       "      <td>3.5</td>\n",
       "      <td>0.703</td>\n",
       "      <td>0.525</td>\n",
       "    </tr>\n",
       "    <tr>\n",
       "      <th>7</th>\n",
       "      <td>4.0</td>\n",
       "      <td>0.715</td>\n",
       "      <td>0.514</td>\n",
       "    </tr>\n",
       "    <tr>\n",
       "      <th>8</th>\n",
       "      <td>4.5</td>\n",
       "      <td>0.723</td>\n",
       "      <td>0.519</td>\n",
       "    </tr>\n",
       "    <tr>\n",
       "      <th>9</th>\n",
       "      <td>5.0</td>\n",
       "      <td>0.724</td>\n",
       "      <td>0.514</td>\n",
       "    </tr>\n",
       "  </tbody>\n",
       "</table>\n",
       "</div>"
      ],
      "text/plain": [
       "     C  TrainAccuracy  TestAccuracy\n",
       "0  0.5          0.594         0.492\n",
       "1  1.0          0.620         0.517\n",
       "2  1.5          0.643         0.512\n",
       "3  2.0          0.663         0.521\n",
       "4  2.5          0.677         0.519\n",
       "5  3.0          0.694         0.517\n",
       "6  3.5          0.703         0.525\n",
       "7  4.0          0.715         0.514\n",
       "8  4.5          0.723         0.519\n",
       "9  5.0          0.724         0.514"
      ]
     },
     "execution_count": 14,
     "metadata": {},
     "output_type": "execute_result"
    }
   ],
   "source": [
    "# C: 규제에 대한 강도\n",
    "\n",
    "train_accuracy = []\n",
    "test_accuracy=[]\n",
    "\n",
    "para_c=[0.5 * c for c in range(1,11)]\n",
    "\n",
    "for v_C in para_c:\n",
    "    svm = SVC(C=v_C,random_state=1234)\n",
    "    svm.fit(df_train_x,df_train_y)\n",
    "    train_accuracy.append(svm.score(df_train_x,df_train_y))\n",
    "    test_accuracy.append(svm.score(df_test_x,df_test_y))\n",
    "\n",
    "df_accuracy_c = pd.DataFrame()\n",
    "df_accuracy_c[\"C\"] = para_c\n",
    "df_accuracy_c[\"TrainAccuracy\"] = train_accuracy\n",
    "df_accuracy_c[\"TestAccuracy\"] = test_accuracy\n",
    "\n",
    "df_accuracy_c.round(3)"
   ]
  },
  {
   "cell_type": "code",
   "execution_count": 15,
   "metadata": {},
   "outputs": [
    {
     "data": {
      "text/plain": [
       "<matplotlib.legend.Legend at 0x258abf9b708>"
      ]
     },
     "execution_count": 15,
     "metadata": {},
     "output_type": "execute_result"
    },
    {
     "data": {
      "image/png": "[encoded data removed]",
      "text/plain": [
       "<Figure size 432x288 with 1 Axes>"
      ]
     },
     "metadata": {
      "needs_background": "light"
     },
     "output_type": "display_data"
    }
   ],
   "source": [
    "# 모델 정확도 그래프 확인\n",
    "plt.plot(para_c, train_accuracy,linestyle=\"-\",label=\"Train Accuracy\")\n",
    "plt.plot(para_c, test_accuracy,linestyle=\"--\",label=\"Test Accuracy\")\n",
    "plt.xlabel(\"C\")\n",
    "plt.ylabel(\"accuracy\")\n",
    "plt.legend()"
   ]
  },
  {
   "cell_type": "markdown",
   "metadata": {},
   "source": [
    "C가 늘어날수록 train 정확도와 test 정확도의 차이가 늘어난다. 따라서 C를 따로 설정하지 않는다."
   ]
  },
  {
   "cell_type": "code",
   "execution_count": 18,
   "metadata": {
    "scrolled": true
   },
   "outputs": [
    {
     "data": {
      "text/html": [
       "<div>\n",
       "<style scoped>\n",
       "    .dataframe tbody tr th:only-of-type {\n",
       "        vertical-align: middle;\n",
       "    }\n",
       "\n",
       "    .dataframe tbody tr th {\n",
       "        vertical-align: top;\n",
       "    }\n",
       "\n",
       "    .dataframe thead th {\n",
       "        text-align: right;\n",
       "    }\n",
       "</style>\n",
       "<table border=\"1\" class=\"dataframe\">\n",
       "  <thead>\n",
       "    <tr style=\"text-align: right;\">\n",
       "      <th></th>\n",
       "      <th>gamma</th>\n",
       "      <th>TrainAccuracy</th>\n",
       "      <th>testAccuracy</th>\n",
       "    </tr>\n",
       "  </thead>\n",
       "  <tbody>\n",
       "    <tr>\n",
       "      <th>0</th>\n",
       "      <td>0.05</td>\n",
       "      <td>0.587</td>\n",
       "      <td>0.495</td>\n",
       "    </tr>\n",
       "    <tr>\n",
       "      <th>1</th>\n",
       "      <td>0.10</td>\n",
       "      <td>0.642</td>\n",
       "      <td>0.514</td>\n",
       "    </tr>\n",
       "    <tr>\n",
       "      <th>2</th>\n",
       "      <td>0.15</td>\n",
       "      <td>0.695</td>\n",
       "      <td>0.541</td>\n",
       "    </tr>\n",
       "    <tr>\n",
       "      <th>3</th>\n",
       "      <td>0.20</td>\n",
       "      <td>0.738</td>\n",
       "      <td>0.528</td>\n",
       "    </tr>\n",
       "    <tr>\n",
       "      <th>4</th>\n",
       "      <td>0.25</td>\n",
       "      <td>0.777</td>\n",
       "      <td>0.526</td>\n",
       "    </tr>\n",
       "    <tr>\n",
       "      <th>5</th>\n",
       "      <td>0.30</td>\n",
       "      <td>0.811</td>\n",
       "      <td>0.525</td>\n",
       "    </tr>\n",
       "    <tr>\n",
       "      <th>6</th>\n",
       "      <td>0.35</td>\n",
       "      <td>0.830</td>\n",
       "      <td>0.526</td>\n",
       "    </tr>\n",
       "    <tr>\n",
       "      <th>7</th>\n",
       "      <td>0.40</td>\n",
       "      <td>0.859</td>\n",
       "      <td>0.528</td>\n",
       "    </tr>\n",
       "    <tr>\n",
       "      <th>8</th>\n",
       "      <td>0.45</td>\n",
       "      <td>0.873</td>\n",
       "      <td>0.528</td>\n",
       "    </tr>\n",
       "    <tr>\n",
       "      <th>9</th>\n",
       "      <td>0.50</td>\n",
       "      <td>0.892</td>\n",
       "      <td>0.537</td>\n",
       "    </tr>\n",
       "  </tbody>\n",
       "</table>\n",
       "</div>"
      ],
      "text/plain": [
       "   gamma  TrainAccuracy  testAccuracy\n",
       "0   0.05          0.587         0.495\n",
       "1   0.10          0.642         0.514\n",
       "2   0.15          0.695         0.541\n",
       "3   0.20          0.738         0.528\n",
       "4   0.25          0.777         0.526\n",
       "5   0.30          0.811         0.525\n",
       "6   0.35          0.830         0.526\n",
       "7   0.40          0.859         0.528\n",
       "8   0.45          0.873         0.528\n",
       "9   0.50          0.892         0.537"
      ]
     },
     "execution_count": 18,
     "metadata": {},
     "output_type": "execute_result"
    }
   ],
   "source": [
    "# gamma: train셋이 미치는 영향의 범위\n",
    "\n",
    "train_accuracy=[]\n",
    "test_accuracy=[]\n",
    "\n",
    "para_gamma = [gamma*0.05 for gamma in range(1,11)]\n",
    "\n",
    "for v_gamma in para_gamma:\n",
    "    svm = SVC(gamma=v_gamma, random_state=1234)\n",
    "    svm.fit(df_train_x,df_train_y)\n",
    "    train_accuracy.append(svm.score(df_train_x,df_train_y))\n",
    "    test_accuracy.append(svm.score(df_test_x,df_test_y))\n",
    "    \n",
    "\n",
    "df_accuracy_gamma = pd.DataFrame()\n",
    "df_accuracy_gamma[\"gamma\"]=para_gamma\n",
    "df_accuracy_gamma[\"TrainAccuracy\"] = train_accuracy\n",
    "df_accuracy_gamma[\"testAccuracy\"] = test_accuracy\n",
    "\n",
    "df_accuracy_gamma.round(3)"
   ]
  },
  {
   "cell_type": "code",
   "execution_count": 19,
   "metadata": {},
   "outputs": [
    {
     "data": {
      "text/plain": [
       "<matplotlib.legend.Legend at 0x258ac796d08>"
      ]
     },
     "execution_count": 19,
     "metadata": {},
     "output_type": "execute_result"
    },
    {
     "data": {
      "image/png": "[encoded data removed]",
      "text/plain": [
       "<Figure size 432x288 with 1 Axes>"
      ]
     },
     "metadata": {
      "needs_background": "light"
     },
     "output_type": "display_data"
    }
   ],
   "source": [
    "plt.plot(para_gamma,train_accuracy,linestyle=\"-\",label =\"Train Accuracy\")\n",
    "plt.plot(para_gamma,test_accuracy,linestyle=\"-\",label =\"test Accuracy\")\n",
    "plt.xlabel(\"gamma\")\n",
    "plt.ylabel(\"accuracy\")\n",
    "plt.legend()"
   ]
  },
  {
   "cell_type": "markdown",
   "metadata": {},
   "source": [
    "gamma를 따로 설정하지 않는 것이 test 정확도도 높고 train 정확도와의 차이도 가장 적다.따라서 gamma를 따로 설정하지 않는다."
   ]
  },
  {
   "cell_type": "markdown",
   "metadata": {},
   "source": [
    "### 3. 최종 모델 선정"
   ]
  },
  {
   "cell_type": "code",
   "execution_count": 22,
   "metadata": {},
   "outputs": [
    {
     "name": "stdout",
     "output_type": "stream",
     "text": [
      "Accuracy on training set: 0.620 >>> 0.620\n",
      "Accuracy on test set: 0.517 >>> 0.517\n"
     ]
    }
   ],
   "source": [
    "svc_final = SVC(random_state=1234)\n",
    "svc_final.fit(df_train_x,df_train_y)\n",
    "\n",
    "print(\"Accuracy on training set: 0.620 >>> {:.3f}\".format(svc_final.score(df_train_x,df_train_y)))\n",
    "print(\"Accuracy on test set: 0.517 >>> {:.3f}\".format(svc_final.score(df_test_x,df_test_y)))"
   ]
  },
  {
   "cell_type": "code",
   "execution_count": 38,
   "metadata": {},
   "outputs": [
    {
     "data": {
      "text/plain": [
       "SVC(C=1.0, break_ties=False, cache_size=200, class_weight=None, coef0=0.0,\n",
       "    decision_function_shape='ovr', degree=3, gamma=0.01, kernel='rbf',\n",
       "    max_iter=-1, probability=False, random_state=1234, shrinking=True,\n",
       "    tol=0.001, verbose=False)"
      ]
     },
     "execution_count": 38,
     "metadata": {},
     "output_type": "execute_result"
    }
   ],
   "source": [
    "svc_final"
   ]
  },
  {
   "cell_type": "code",
   "execution_count": 39,
   "metadata": {},
   "outputs": [
    {
     "name": "stdout",
     "output_type": "stream",
     "text": [
      "Confusion matrix:\n",
      "[[212  48]\n",
      " [224  67]]\n"
     ]
    }
   ],
   "source": [
    "y_pred = svc_final.predict(df_test_x)\n",
    "print(\"Confusion matrix:\\n{}\".format(confusion_matrix(df_test_y,y_pred)))"
   ]
  },
  {
   "cell_type": "code",
   "execution_count": 23,
   "metadata": {},
   "outputs": [
    {
     "name": "stdout",
     "output_type": "stream",
     "text": [
      "best estimator model:\n",
      "SVC(C=0.5, break_ties=False, cache_size=200, class_weight=None, coef0=0.0,\n",
      "    decision_function_shape='ovr', degree=3, gamma=0.05, kernel='rbf',\n",
      "    max_iter=-1, probability=False, random_state=1234, shrinking=True,\n",
      "    tol=0.001, verbose=False)\n",
      "\n",
      "best parameter:\n",
      "{'C': 0.5, 'gamma': 0.05}\n",
      "\n",
      "best score:\n",
      "0.5389\n"
     ]
    }
   ],
   "source": [
    "estimator = SVC(random_state=1234)\n",
    "param_grid={\"C\":para_c,\"gamma\":para_gamma}\n",
    "\n",
    "grid_rf=GridSearchCV(estimator,param_grid,scoring=\"accuracy\",n_jobs=-1)\n",
    "grid_rf.fit(df_train_x,df_train_y)\n",
    "print(\"best estimator model:\\n{}\".format(grid_rf.best_estimator_))\n",
    "print(\"\\nbest parameter:\\n{}\".format(grid_rf.best_params_))\n",
    "print(\"\\nbest score:\\n{}\".format(grid_rf.best_score_.round(4)))"
   ]
  }
 ],
 "metadata": {
  "kernelspec": {
   "display_name": "Python 3",
   "language": "python",
   "name": "python3"
  },
  "language_info": {
   "codemirror_mode": {
    "name": "ipython",
    "version": 3
   },
   "file_extension": ".py",
   "mimetype": "text/x-python",
   "name": "python",
   "nbconvert_exporter": "python",
   "pygments_lexer": "ipython3",
   "version": "3.7.6"
  },
  "toc": {
   "base_numbering": 1,
   "nav_menu": {},
   "number_sections": false,
   "sideBar": true,
   "skip_h1_title": false,
   "title_cell": "Table of Contents",
   "title_sidebar": "Contents",
   "toc_cell": false,
   "toc_position": {
    "height": "calc(100% - 180px)",
    "left": "10px",
    "top": "150px",
    "width": "245.76px"
   },
   "toc_section_display": true,
   "toc_window_display": true
  }
 },
 "nbformat": 4,
 "nbformat_minor": 4
}
